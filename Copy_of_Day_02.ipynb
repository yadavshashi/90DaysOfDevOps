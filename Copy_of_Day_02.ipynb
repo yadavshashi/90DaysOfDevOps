{
  "cells": [
    {
      "cell_type": "markdown",
      "metadata": {
        "id": "view-in-github",
        "colab_type": "text"
      },
      "source": [
        "<a href=\"https://colab.research.google.com/github/yadavshashi/90DaysOfDevOps/blob/master/Copy_of_Day_02.ipynb\" target=\"_parent\"><img src=\"https://colab.research.google.com/assets/colab-badge.svg\" alt=\"Open In Colab\"/></a>"
      ]
    },
    {
      "cell_type": "markdown",
      "source": [],
      "metadata": {
        "id": "bu5O342m3Qx1"
      }
    },
    {
      "cell_type": "code",
      "source": [
        "import random\n",
        "head = 0\n",
        "tail = 0\n",
        "trail = 10000\n",
        "for i in range(trail):\n",
        "    toss = random.choice(['H', 'T'])\n",
        "    if toss == 'H':\n",
        "        head += 1\n",
        "    else:\n",
        "        tail += 1\n",
        "head_toss = head / trail\n",
        "tail_toss = tail / trail\n",
        "print(f\"head toss:{head_toss:.2f}\")\n",
        "print(f\"tail toss:{tail_toss:.2f}\")\n",
        "\n",
        "\n",
        "import random\n",
        "roll_sum = 0\n",
        "trail = 10000\n",
        "for _ in range(trail):\n",
        "    die  = random.randint(1,6)\n",
        "    die2 = random.randint(1,6)\n",
        "    total = die + die2\n",
        "    if total == 7:\n",
        "        roll_sum += 1\n",
        "\n",
        "prob_sum = roll_sum / trail\n",
        "print(prob_sum)\n",
        "\n",
        "import random\n",
        "\n",
        "def estimate_probability(trials=10000):\n",
        "    success = 0\n",
        "\n",
        "    for _ in range(trials):\n",
        "        rolled_six = False\n",
        "        for _ in range(10):  # Roll the die 10 times\n",
        "            roll = random.randint(1, 6)\n",
        "            if roll == 6:\n",
        "                rolled_six = True\n",
        "                break\n",
        "        if rolled_six:\n",
        "            success += 1\n",
        "\n",
        "    # Calculate the proportion of successful trials\n",
        "    probability = success / trials\n",
        "    return probability\n",
        "\n",
        "print(\"Estimated probability:\", estimate_probability())\n",
        "\n",
        "\n",
        "import random\n",
        "\n",
        "# Function to simulate the drawing of balls from the bag\n",
        "def simulate_balls(trials=1000):\n",
        "    # The bag contains 5 red, 7 green, and 8 blue balls\n",
        "    balls = ['red'] * 5 + ['green'] * 7 + ['blue'] * 8\n",
        "\n",
        "    # Variables to track occurrences\n",
        "    red_after_blue = 0  # Red ball drawn after a blue ball\n",
        "    blue_count = 0      # Total blue balls drawn\n",
        "\n",
        "    previous_ball = None  # To keep track of the previous ball\n",
        "\n",
        "    # Simulate the process for 'trials' times\n",
        "    for _ in range(trials):\n",
        "        # Draw a ball from the bag (random selection)\n",
        "        current_ball = random.choice(balls)\n",
        "\n",
        "        # Count how many times we draw a red ball after a blue ball\n",
        "        if previous_ball == 'blue' and current_ball == 'red':\n",
        "            red_after_blue += 1\n",
        "\n",
        "        if current_ball == 'blue':\n",
        "            blue_count += 1\n",
        "\n",
        "        # Update the previous ball to the current ball\n",
        "        previous_ball = current_ball\n",
        "\n",
        "    # a. Probability of drawing a red ball given that the previous ball was blue\n",
        "    prob_red_given_blue = red_after_blue / blue_count if blue_count > 0 else 0\n",
        "\n",
        "    # b. Verifying Bayes' theorem\n",
        "    # P(Red | Previous=Blue) = P(Previous=Blue | Red) * P(Red) / P(Previous=Blue)\n",
        "\n",
        "    # Probability of Red\n",
        "    prob_red = 5 / 20\n",
        "\n",
        "    # Probability of Blue\n",
        "    prob_blue = 8 / 20\n",
        "\n",
        "    # P(Previous=Blue | Red) is the probability that blue follows red (same as conditional probability)\n",
        "    prob_blue_given_red = blue_count / trials\n",
        "\n",
        "    # Bayes' theorem verification\n",
        "    bayes_prob = (prob_blue_given_red * prob_red) / prob_blue if prob_blue > 0 else 0\n",
        "\n",
        "    # Print the results\n",
        "    print(f\"Estimated Probability of Red given Blue: {prob_red_given_blue:.4f}\")\n",
        "    print(f\"Bayes' Theorem Verification: {bayes_prob:.4f}\")\n",
        "\n",
        "# Call the function\n",
        "simulate_balls()\n",
        "\n",
        "\n",
        "\n",
        "import numpy as np\n",
        "import random\n",
        "values = [1,2,3]\n",
        "probability = [0.25,0.35,0.4]\n",
        "sample_size = 1000\n",
        "sample = np.random.choice(values ,p= probability, size=sample_size)\n",
        "\n",
        "mean = np.mean(sample)\n",
        "print(mean)\n",
        "variance = np.var(sample)\n",
        "print(variance)\n",
        "\n",
        "std_dev = np.std(sample)\n",
        "print(std_dev)"
      ],
      "metadata": {
        "id": "DzDkhXlY3Rnc",
        "outputId": "6cd621da-ceb5-4bb5-a85f-739800a6a8d8",
        "colab": {
          "base_uri": "https://localhost:8080/"
        }
      },
      "execution_count": 1,
      "outputs": [
        {
          "output_type": "stream",
          "name": "stdout",
          "text": [
            "head toss:0.50\n",
            "tail toss:0.50\n",
            "0.1619\n",
            "Estimated probability: 0.8403\n",
            "Estimated Probability of Red given Blue: 0.2343\n",
            "Bayes' Theorem Verification: 0.2694\n",
            "2.169\n",
            "0.610439\n",
            "0.7813059579959697\n"
          ]
        }
      ]
    },
    {
      "cell_type": "code",
      "source": [],
      "metadata": {
        "id": "NxzurdSk3ScJ"
      },
      "execution_count": null,
      "outputs": []
    }
  ],
  "metadata": {
    "colab": {
      "provenance": [],
      "include_colab_link": true
    },
    "kernelspec": {
      "display_name": "Python 3",
      "name": "python3"
    },
    "language_info": {
      "name": "python"
    }
  },
  "nbformat": 4,
  "nbformat_minor": 0
}